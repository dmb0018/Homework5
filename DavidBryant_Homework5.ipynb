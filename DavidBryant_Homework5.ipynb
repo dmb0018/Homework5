{
  "nbformat": 4,
  "nbformat_minor": 0,
  "metadata": {
    "colab": {
      "provenance": [],
      "authorship_tag": "ABX9TyO7EdYjuZsGIarI8MIJkyPU",
      "include_colab_link": true
    },
    "kernelspec": {
      "name": "python3",
      "display_name": "Python 3"
    },
    "language_info": {
      "name": "python"
    }
  },
  "cells": [
    {
      "cell_type": "markdown",
      "metadata": {
        "id": "view-in-github",
        "colab_type": "text"
      },
      "source": [
        "<a href=\"https://colab.research.google.com/github/dmb0018/Homework5/blob/main/DavidBryant_Homework5.ipynb\" target=\"_parent\"><img src=\"https://colab.research.google.com/assets/colab-badge.svg\" alt=\"Open In Colab\"/></a>"
      ]
    },
    {
      "cell_type": "code",
      "execution_count": 93,
      "metadata": {
        "id": "zToVbmMJgngc"
      },
      "outputs": [],
      "source": [
        "import numpy as nmp\n",
        "from numpy.linalg import matrix_power\n",
        "import scipy.linalg as scp"
      ]
    },
    {
      "cell_type": "code",
      "source": [
        "state = {\n",
        "    0 : \"Rest\",\n",
        "    1 : \"Sweeties\",\n",
        "    2 : \"Excercise\"\n",
        "}\n",
        "\n",
        "state"
      ],
      "metadata": {
        "colab": {
          "base_uri": "https://localhost:8080/"
        },
        "id": "7QGHiaIzg3GS",
        "outputId": "2beb1be0-060a-4c2e-98bb-149c8e1e7bc7"
      },
      "execution_count": 94,
      "outputs": [
        {
          "output_type": "execute_result",
          "data": {
            "text/plain": [
              "{0: 'Rest', 1: 'Sweeties', 2: 'Excercise'}"
            ]
          },
          "metadata": {},
          "execution_count": 94
        }
      ]
    },
    {
      "cell_type": "code",
      "source": [
        "A = nmp.array([[0.2,0.2,0.6], [0.2,0.1,0.7],[0.1,0.3,0.6]])   #Define Transition Matrix\n",
        "A_15 = matrix_power(A,15) # Take the transition matrix to 15th power\n",
        "\n",
        "# Probability of Excercise is on 15th day\n",
        "print(\"Answer to question 1:\")\n",
        "print(\"Probability of Excercise on the 15th day:\", A_15[0][2])"
      ],
      "metadata": {
        "colab": {
          "base_uri": "https://localhost:8080/"
        },
        "id": "mpNsEjHAhKZn",
        "outputId": "361017ca-1d19-404c-af7f-d19dfb1ff337"
      },
      "execution_count": 95,
      "outputs": [
        {
          "output_type": "stream",
          "name": "stdout",
          "text": [
            "Answer to question 1:\n",
            "Probability of Excercise on the 15th day: 0.6238532110092636\n"
          ]
        }
      ]
    },
    {
      "cell_type": "code",
      "source": [
        "A_10000 = matrix_power(A,10000) # Take the transition matrix to the 10000th power\n",
        "\n",
        "# Probability of Excercise is on 10,000th day\n",
        "print(\"Answer to question 2:\")\n",
        "print(\"Probability of Excercise on the 10,000th day is:\",A_10000[0][2])"
      ],
      "metadata": {
        "colab": {
          "base_uri": "https://localhost:8080/"
        },
        "id": "HJIdmvQMMrIp",
        "outputId": "8cb3a1b9-13c7-4def-8764-66431417cf11"
      },
      "execution_count": 96,
      "outputs": [
        {
          "output_type": "stream",
          "name": "stdout",
          "text": [
            "Answer to question 2:\n",
            "Probability of Excercise on the 10,000th day is: 0.6238532110089617\n"
          ]
        }
      ]
    },
    {
      "cell_type": "code",
      "source": [
        "# The following is the use monte carlo method from lecture youtube video\n",
        "# With 15 steps\n",
        "steps = 15\n",
        "start_state = 0\n",
        "prev_state = start_state\n",
        "pi = nmp.array([0,0,0])       # Array to hold each state the model goes to\n",
        "pi[start_state] = 1\n",
        "\n",
        "i = 0\n",
        "while i < steps:\n",
        "  #Pick current state based on previous state\n",
        "  curr_state = nmp.random.choice([0,1,2], p=A[prev_state])\n",
        "\n",
        "  # Increment current state amount\n",
        "  pi[curr_state] +=1\n",
        "  # Continue to walk through the process and update the next previous state\n",
        "  prev_state = curr_state\n",
        "  i += 1\n",
        "\n",
        "# Find probability of exercise\n",
        "probabilityExercise1 = pi[2]/steps\n",
        "\n",
        "# Print the value found using the monte carlo method with 15 steps\n",
        "print(\"The value using monte carlo method of the probability of excercise through\")\n",
        "print(\"15th days is:\", probabilityExercise1)"
      ],
      "metadata": {
        "colab": {
          "base_uri": "https://localhost:8080/"
        },
        "id": "OWk2DWoLNTuX",
        "outputId": "cafd2e77-1822-4e21-e66c-0c4aeecbc75d"
      },
      "execution_count": 107,
      "outputs": [
        {
          "output_type": "stream",
          "name": "stdout",
          "text": [
            "The value using monte carlo method of the probability of excercise through\n",
            "15th days is: 0.7333333333333333\n"
          ]
        }
      ]
    },
    {
      "cell_type": "code",
      "source": [
        "# The following is the use monte carlo method from lecture youtube video\n",
        "# With 10,000 steps\n",
        "steps = 10000\n",
        "start_state = 0\n",
        "prev_state = start_state\n",
        "pi = nmp.array([0,0,0])\n",
        "pi[start_state] = 1\n",
        "\n",
        "i = 0\n",
        "while i < steps:\n",
        "  #Pick current state based on previous state\n",
        "  curr_state = nmp.random.choice([0,1,2], p=A[prev_state])\n",
        "\n",
        "  # Increment current state amount\n",
        "  pi[curr_state] +=1\n",
        "  # Continue to walk through the process and update the next previous state\n",
        "  prev_state = curr_state\n",
        "  i += 1\n",
        "\n",
        "# Find probability of exercise\n",
        "probabilityExercise2 = pi[2]/steps\n",
        "\n",
        "# Print the value found using the monte carlo method with 10,000 steps\n",
        "print(\"The value using monte carlo method of the probability of excercise through\")\n",
        "print(\"10,000 days is:\", probabilityExercise2)"
      ],
      "metadata": {
        "colab": {
          "base_uri": "https://localhost:8080/"
        },
        "id": "PRZB9e8XRlpK",
        "outputId": "894163a4-c7ba-4fe4-8386-1c6bce43d28a"
      },
      "execution_count": 98,
      "outputs": [
        {
          "output_type": "stream",
          "name": "stdout",
          "text": [
            "The value using monte carlo method of the probability of excercise through\n",
            "10,000 days is: 0.6249\n"
          ]
        }
      ]
    },
    {
      "cell_type": "code",
      "source": [
        "# Find stationary distribution with left eigenvalues\n",
        "values, left = scp.eig(A,right = False, left = True)\n",
        "pi = left[:,0]\n",
        "pi_normalized = [(x/nmp.sum(pi)).real for x in pi]\n",
        "\n",
        "# Print out stationary distribution\n",
        "print(\"Values found using eigenvalues are:\", pi_normalized)\n",
        "print(\"Value for stationary distribution of exercise is:\",pi_normalized[2])"
      ],
      "metadata": {
        "colab": {
          "base_uri": "https://localhost:8080/"
        },
        "id": "NloKAszFMwKA",
        "outputId": "0b85abbb-54c3-40ba-b89f-b4b50446be42"
      },
      "execution_count": 100,
      "outputs": [
        {
          "output_type": "stream",
          "name": "stdout",
          "text": [
            "Values found using eigenvalues are: [0.13761467889908202, 0.23853211009174316, 0.6238532110091748]\n",
            "Value for stationary distribution of exercise is: 0.6238532110091748\n"
          ]
        }
      ]
    },
    {
      "cell_type": "code",
      "source": [
        "# Support for answering question 3\n",
        "print(\"Transition matrix raised to 15th power compared to stationary distribution:\", A_15[0][2] - pi_normalized[2])\n",
        "print(\"Transition matrix raised to 10,000th power compared to stationary distribution:\", A_10000[0][2] - pi_normalized[2])\n",
        "print(\"Monte Carlo Method Exercise on 15th day compared to stationary distribution:\" , probabilityExercise1 - pi_normalized[2]  )\n",
        "print(\"Monte Carlo Method Exercise on 10,000th day compared to stationary distribution:\" , probabilityExercise2 - pi_normalized[2]  )"
      ],
      "metadata": {
        "colab": {
          "base_uri": "https://localhost:8080/"
        },
        "id": "mZwYhb_deTJw",
        "outputId": "a3a5d6d9-8ed6-4493-ebfc-c1b5b9bbfd43"
      },
      "execution_count": 108,
      "outputs": [
        {
          "output_type": "stream",
          "name": "stdout",
          "text": [
            "Transition matrix raised to 15th power compared to stationary distribution: 8.881784197001252e-14\n",
            "Transition matrix raised to 10,000th power compared to stationary distribution: -2.1305179842556754e-13\n",
            "Monte Carlo Method Exercise on 15th day compared to stationary distribution: 0.10948012232415849\n",
            "Monte Carlo Method Exercise on 10,000th day compared to stationary distribution: 0.0010467889908252204\n"
          ]
        }
      ]
    },
    {
      "cell_type": "markdown",
      "source": [
        "Answer to Question 3:\n",
        "\n",
        "The monte carlo method is much more accurate when more days are taken into account as expected due to the law of large numbers.\n",
        "\n",
        "The values found taking the transition matrix and raising it to the power of days were much closer to the stationary distribution value for exercise. However, interestingly the value for the 15th day is closer in value to the stationary distribution of exercise.  "
      ],
      "metadata": {
        "id": "WO67SDLkehoU"
      }
    },
    {
      "cell_type": "code",
      "source": [
        "# For curiousity, wanted to tweak the monte carlo method used above to specifically\n",
        "# find the value for the probability of exercise on the 15th day as opposed to\n",
        "# the amount of exercise days had through the first 15 days of a simulation\n",
        "steps = 15\n",
        "start_state = 0\n",
        "prev_state = start_state\n",
        "\n",
        "iterations = 10000\n",
        "j = 0\n",
        "\n",
        "# Counter to hold excercise on last day\n",
        "exerciseCounter = 0\n",
        "\n",
        "while j < iterations:\n",
        "  i = 1\n",
        "  while i <= steps:\n",
        "    #Pick current state based on previous state\n",
        "    curr_state = nmp.random.choice([0,1,2], p=A[prev_state])\n",
        "    # Continue to walk through the process and update the next previous state\n",
        "    prev_state = curr_state\n",
        "\n",
        "    if i == steps: # Determine if it is last step in this iteration\n",
        "      if curr_state == 2:\n",
        "        exerciseCounter += 1 #Increase excercise counter if it is excercise on\n",
        "                             # last day\n",
        "    i += 1\n",
        "  j += 1\n",
        "\n",
        "#Show odds of having excercise on last day\n",
        "probabilityExercise3 = exerciseCounter/iterations\n",
        "\n",
        "# Print the value found using the monte carlo method with 15 steps\n",
        "print(\"The value using monte carlo method of the probability of excercise on the\")\n",
        "print(\"15th day is:\", probabilityExercise3)\n",
        "\n",
        "#This could be done with 10,000 days as well, but the simulation would take\n",
        "# much longer"
      ],
      "metadata": {
        "colab": {
          "base_uri": "https://localhost:8080/"
        },
        "id": "D-le7Z-1kAc_",
        "outputId": "82084c04-2fd3-4cb9-8130-16e899bc6558"
      },
      "execution_count": 109,
      "outputs": [
        {
          "output_type": "stream",
          "name": "stdout",
          "text": [
            "The value using monte carlo method of the probability of excercise on the\n",
            "15th day is: 0.6225\n"
          ]
        }
      ]
    }
  ]
}